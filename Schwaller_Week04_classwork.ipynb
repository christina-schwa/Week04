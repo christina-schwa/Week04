{
 "cells": [
  {
   "cell_type": "code",
   "execution_count": 2,
   "metadata": {},
   "outputs": [
    {
     "data": {
      "text/plain": [
       "[4, 16, 36, 64, 100, 144, 196]"
      ]
     },
     "execution_count": 2,
     "metadata": {},
     "output_type": "execute_result"
    }
   ],
   "source": [
    "#1\n",
    "\n",
    "og_list = [2, 4, 6, 8, 10, 12, 14]\n",
    "\n",
    "def square(og_list):\n",
    "    return [i ** 2 for i in og_list]\n",
    "\n",
    "square(og_list)"
   ]
  },
  {
   "cell_type": "code",
   "execution_count": 3,
   "metadata": {},
   "outputs": [
    {
     "data": {
      "text/plain": [
       "[1.3333333333333333,\n",
       " 2.6666666666666665,\n",
       " 4.0,\n",
       " 5.333333333333333,\n",
       " 6.666666666666667,\n",
       " 8.0,\n",
       " 9.333333333333334]"
      ]
     },
     "execution_count": 3,
     "metadata": {},
     "output_type": "execute_result"
    }
   ],
   "source": [
    "#2\n",
    "\n",
    "og_list = [2, 4, 6, 8, 10, 12, 14]\n",
    "\n",
    "def two_thirds(og_list):\n",
    "    return [i * 2/3 for i in og_list]\n",
    "\n",
    "two_thirds(og_list)"
   ]
  },
  {
   "cell_type": "code",
   "execution_count": 40,
   "metadata": {},
   "outputs": [
    {
     "data": {
      "text/plain": [
       "{'apples': 1500,\n",
       " 'cranberries': 2000,\n",
       " 'pears': 2500,\n",
       " 'cherries': 1600,\n",
       " 'plums': 2400,\n",
       " 'peaches': 13600,\n",
       " 'oranges': 7}"
      ]
     },
     "execution_count": 40,
     "metadata": {},
     "output_type": "execute_result"
    }
   ],
   "source": [
    "#3\n",
    "\n",
    "upper_dict={\"Apples\": 1500, \n",
    "      \"Cranberries\": 2000, \n",
    "      \"Pears\": 2500, \n",
    "      \"Cherries\": 1600, \n",
    "      \"Plums\": 2400, \n",
    "      \"Peaches\": 13600, \n",
    "      \"Oranges\": 7}\n",
    "\n",
    "def lower_dict(upper_dict):\n",
    "    return {key.lower(): value for key, value in upper_dict.items() if type(key) == str}\n",
    "\n",
    "lower_dict(upper_dict)"
   ]
  }
 ],
 "metadata": {
  "kernelspec": {
   "display_name": "Python 3",
   "language": "python",
   "name": "python3"
  },
  "language_info": {
   "codemirror_mode": {
    "name": "ipython",
    "version": 3
   },
   "file_extension": ".py",
   "mimetype": "text/x-python",
   "name": "python",
   "nbconvert_exporter": "python",
   "pygments_lexer": "ipython3",
   "version": "3.8.5"
  }
 },
 "nbformat": 4,
 "nbformat_minor": 4
}
